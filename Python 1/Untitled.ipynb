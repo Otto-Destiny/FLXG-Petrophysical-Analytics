{
 "cells": [
  {
   "cell_type": "code",
   "execution_count": 2,
   "metadata": {},
   "outputs": [
    {
     "name": "stdout",
     "output_type": "stream",
     "text": [
      "Collecting welly\n",
      "  Downloading welly-0.4.9.tar.gz (51 kB)\n",
      "Requirement already satisfied: numpy in c:\\users\\destiny otto\\anaconda3\\lib\\site-packages (from welly) (1.18.5)\n",
      "Requirement already satisfied: scipy in c:\\users\\destiny otto\\anaconda3\\lib\\site-packages (from welly) (1.5.0)\n",
      "Requirement already satisfied: matplotlib in c:\\users\\destiny otto\\anaconda3\\lib\\site-packages (from welly) (3.2.2)\n",
      "Collecting lasio\n",
      "  Downloading lasio-0.28-py3-none-any.whl (39 kB)\n",
      "Collecting striplog\n",
      "  Downloading striplog-0.8.8.tar.gz (77 kB)\n",
      "Requirement already satisfied: tqdm in c:\\users\\destiny otto\\anaconda3\\lib\\site-packages (from welly) (4.47.0)\n",
      "Requirement already satisfied: pyparsing!=2.0.4,!=2.1.2,!=2.1.6,>=2.0.1 in c:\\users\\destiny otto\\anaconda3\\lib\\site-packages (from matplotlib->welly) (2.4.7)\n",
      "Requirement already satisfied: kiwisolver>=1.0.1 in c:\\users\\destiny otto\\anaconda3\\lib\\site-packages (from matplotlib->welly) (1.2.0)\n",
      "Requirement already satisfied: python-dateutil>=2.1 in c:\\users\\destiny otto\\anaconda3\\lib\\site-packages (from matplotlib->welly) (2.8.1)\n",
      "Requirement already satisfied: cycler>=0.10 in c:\\users\\destiny otto\\anaconda3\\lib\\site-packages (from matplotlib->welly) (0.10.0)\n",
      "Requirement already satisfied: six>=1.5 in c:\\users\\destiny otto\\anaconda3\\lib\\site-packages (from python-dateutil>=2.1->matplotlib->welly) (1.15.0)\n",
      "Building wheels for collected packages: welly, striplog\n",
      "  Building wheel for welly (setup.py): started\n",
      "  Building wheel for welly (setup.py): finished with status 'done'\n",
      "  Created wheel for welly: filename=welly-0.4.9-py3-none-any.whl size=55563 sha256=b2664e1155c93c4296b124bf5588e473ca97c0486f546d7acb31bed748637e10\n",
      "  Stored in directory: c:\\users\\destiny otto\\appdata\\local\\pip\\cache\\wheels\\61\\8e\\23\\5dc7983676735bfba893d2f017a64c6bd3c5f4150ea096593b\n",
      "  Building wheel for striplog (setup.py): started\n",
      "  Building wheel for striplog (setup.py): finished with status 'done'\n",
      "  Created wheel for striplog: filename=striplog-0.8.8-py3-none-any.whl size=83659 sha256=0a64d3c9d4e192ad44585a014bbf32b29697e5c3cb7d90b5913ce08cbd0f93ad\n",
      "  Stored in directory: c:\\users\\destiny otto\\appdata\\local\\pip\\cache\\wheels\\5a\\7b\\cd\\40a992d7a2128af017055f3593a45875b9a6599e46fc08c5af\n",
      "Successfully built welly striplog\n",
      "Installing collected packages: lasio, striplog, welly\n",
      "Successfully installed lasio-0.28 striplog-0.8.8 welly-0.4.9\n"
     ]
    }
   ],
   "source": [
    "!pip install welly"
   ]
  }
 ],
 "metadata": {
  "kernelspec": {
   "display_name": "Python 3",
   "language": "python",
   "name": "python3"
  },
  "language_info": {
   "codemirror_mode": {
    "name": "ipython",
    "version": 3
   },
   "file_extension": ".py",
   "mimetype": "text/x-python",
   "name": "python",
   "nbconvert_exporter": "python",
   "pygments_lexer": "ipython3",
   "version": "3.8.3"
  }
 },
 "nbformat": 4,
 "nbformat_minor": 4
}
